{
 "cells": [
  {
   "cell_type": "code",
   "execution_count": 11,
   "metadata": {},
   "outputs": [],
   "source": [
    "import numpy as np"
   ]
  },
  {
   "cell_type": "code",
   "execution_count": 15,
   "metadata": {
    "collapsed": true
   },
   "outputs": [
    {
     "data": {
      "text/plain": [
       "'\\nThe admission fee at a small fair is $1.50 for children and $4.00 for \\nadults. On a certainday, 2200 people enter the fair and $5050 is collected.\\nHow many children and how many adults attended?\\n\\nLet:\\nX1 = number of children & X2 = number of adults\\n\\nX1 + X2 = 2200\\n1.5*X1 + 4*X2 = 5050\\n\\n[1,1;1.5,4]*[X1;X2] = [2200;5050]\\n\\n'"
      ]
     },
     "execution_count": 15,
     "metadata": {},
     "output_type": "execute_result"
    }
   ],
   "source": [
    "\"\"\"\n",
    "The admission fee at a small fair is $1.50 for children and $4.00 for \n",
    "adults. On a certainday, 2200 people enter the fair and $5050 is collected.\n",
    "How many children and how many adults attended?\n",
    "\n",
    "Let:\n",
    "X1 = number of children & X2 = number of adults\n",
    "\n",
    "X1 + X2 = 2200\n",
    "1.5*X1 + 4*X2 = 5050\n",
    "\n",
    "[1,1;1.5,4]*[X1;X2] = [2200;5050]\n",
    "\n",
    "\"\"\""
   ]
  },
  {
   "cell_type": "code",
   "execution_count": 7,
   "metadata": {},
   "outputs": [
    {
     "data": {
      "text/plain": [
       "array([[ 1. ,  1. ],\n",
       "       [ 1.5,  4. ]])"
      ]
     },
     "execution_count": 7,
     "metadata": {},
     "output_type": "execute_result"
    }
   ],
   "source": [
    "A = np.array([[1,1],[1.5,4]])\n",
    "A"
   ]
  },
  {
   "cell_type": "code",
   "execution_count": 5,
   "metadata": {},
   "outputs": [
    {
     "data": {
      "text/plain": [
       "array([2200, 5050])"
      ]
     },
     "execution_count": 5,
     "metadata": {},
     "output_type": "execute_result"
    }
   ],
   "source": [
    "b = np.array([2200,5050])\n",
    "b"
   ]
  },
  {
   "cell_type": "code",
   "execution_count": 6,
   "metadata": {},
   "outputs": [
    {
     "data": {
      "text/plain": [
       "array([ 1500.,   700.])"
      ]
     },
     "execution_count": 6,
     "metadata": {},
     "output_type": "execute_result"
    }
   ],
   "source": [
    "np.linalg.solve(A,b)"
   ]
  }
 ],
 "metadata": {
  "kernelspec": {
   "display_name": "Python 3",
   "language": "python",
   "name": "python3"
  },
  "language_info": {
   "codemirror_mode": {
    "name": "ipython",
    "version": 3
   },
   "file_extension": ".py",
   "mimetype": "text/x-python",
   "name": "python",
   "nbconvert_exporter": "python",
   "pygments_lexer": "ipython3",
   "version": "3.6.0"
  }
 },
 "nbformat": 4,
 "nbformat_minor": 2
}
